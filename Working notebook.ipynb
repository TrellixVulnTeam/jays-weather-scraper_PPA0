{
 "cells": [
  {
   "cell_type": "code",
   "execution_count": 5,
   "metadata": {},
   "outputs": [
    {
     "name": "stdout",
     "output_type": "stream",
     "text": [
      "writing_crescent\n",
      "2020-06-16-2109\n",
      "http://weather.bm//images/GRAPHS/TheCrescent//GRAPH_The%20Crescent_2020-06-16-2054-L.png\n",
      "windc_2020-06-16-2109.png\n"
     ]
    }
   ],
   "source": [
    "from datetime import datetime,timedelta #for setting times\n",
    "import csv #to export to csv file\n",
    "import requests #to get web pages\n",
    "from PIL import Image  #to manipulate image\n",
    "import PIL.ImageOps #to manipulate image\n",
    "import cv2 #to manipulate image\n",
    "import pytesseract #to ocr read from image\n",
    "import re #to use filtering numbers from stringimport re #to use filtering numbers from string\n",
    "from bs4 import BeautifulSoup\n",
    "now_time = datetime.now() - timedelta(minutes = 0) # current date and time - 15 mins\n",
    "print(\"writing_crescent\")\n",
    "#convert to string in BWS format\n",
    "time = now_time.strftime(\"%Y-%m-%d-%H%M\")\n",
    "print (time)\n",
    "\n",
    "#url = 'http://weather.bm/images/GRAPHS/TheCrescent//GRAPH_The%20Crescent_{}-L.png'.format(time)\n",
    "#url = 'http://weather.bm/images/GRAPHS/TheCrescent//GRAPH_The%20Crescent_2020-06-04-1743-L.png'\n",
    "#print(url)\n",
    "\n",
    "#if url[-7]=='4' or url[-7]=='9':\n",
    "\n",
    "\n",
    "URL = 'http://weather.bm/tools/graphics.asp?name=CRESCENT%20GRAPH&user='\n",
    "page = requests.get(URL)\n",
    "\n",
    "\n",
    "soup = BeautifulSoup(page.content, 'html.parser')\n",
    "images = soup.find(id=\"Img_0\")\n",
    "src = images.get('src')\n",
    "#print(src)\n",
    "url = ('http://weather.bm/{}').format(src)\n",
    "url1 = url.replace(\" \", \"%20\")\n",
    "print(url1)\n",
    "    \n",
    "#filename = 'windc.png'\n",
    "filename = 'windc_{}.png'.format(time)\n",
    "r = requests.get(url1)\n",
    "open(filename, 'wb').write(r.content)\n",
    "print(filename) \n",
    "#cropping\n",
    "# Importing Image class from PIL module \n",
    " \n",
    "# Opens a image in RGB mode \n",
    "im = Image.open(filename, mode='r') \n",
    "\n",
    "# Setting the points for cropped image wind speed\n",
    "left = 980\n",
    "top = 285\n",
    "right =1140\n",
    "bottom = 390\n",
    "\n",
    "# Cropped image of above dimension \n",
    "# (It will not change orginal image) \n",
    "im1 = im.crop((left, top, right, bottom)) \n",
    "im1 = im1.save(\"crop_wsc.png\")"
   ]
  },
  {
   "cell_type": "code",
   "execution_count": null,
   "metadata": {},
   "outputs": [],
   "source": []
  }
 ],
 "metadata": {
  "kernelspec": {
   "display_name": "Python 3",
   "language": "python",
   "name": "python3"
  },
  "language_info": {
   "codemirror_mode": {
    "name": "ipython",
    "version": 3
   },
   "file_extension": ".py",
   "mimetype": "text/x-python",
   "name": "python",
   "nbconvert_exporter": "python",
   "pygments_lexer": "ipython3",
   "version": "3.7.6"
  }
 },
 "nbformat": 4,
 "nbformat_minor": 4
}
